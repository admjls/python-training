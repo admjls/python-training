{
 "cells": [
  {
   "cell_type": "code",
   "execution_count": 1,
   "metadata": {},
   "outputs": [
    {
     "name": "stdout",
     "output_type": "stream",
     "text": [
      "[0, 1, 4, 9, 16, 25, 36, 49, 64, 81]\n"
     ]
    }
   ],
   "source": [
    "\"\"\"\n",
    "Comprehensions are just compact `for` loops. Here's a fairly common\n",
    "`for` loop.\n",
    "\"\"\"\n",
    "\n",
    "squares = []\n",
    "for x in range(10):\n",
    "    squares.append(x*x)\n",
    "print(squares)"
   ]
  },
  {
   "cell_type": "code",
   "execution_count": 2,
   "metadata": {},
   "outputs": [
    {
     "name": "stdout",
     "output_type": "stream",
     "text": [
      "[0, 1, 4, 9, 16, 25, 36, 49, 64, 81]\n"
     ]
    }
   ],
   "source": [
    "\"\"\"\n",
    "A pretty standard `for` loop.\n",
    "\n",
    "    (values) = []\n",
    "    for (item) in (collection):\n",
    "        (values).append( (expression) )\n",
    "    \n",
    "This is such a common use-case for Python's `for` loops that a\n",
    "more concise syntax was developed:\n",
    "\n",
    "    (values) = [ (expression) for (item) in (collection) ]\n",
    "\n",
    "For example, our previous `for` loop performs a single expression (`x*x`)\n",
    "for each item `x` in the collection `range(10)` and appends all generated\n",
    "values to the list `squares`. Which means we can use a list comprehension\n",
    "instead:\n",
    "\"\"\"\n",
    "squares = [x*x for x in range(10)]\n",
    "print(squares)"
   ]
  },
  {
   "cell_type": "code",
   "execution_count": 3,
   "metadata": {},
   "outputs": [
    {
     "name": "stdout",
     "output_type": "stream",
     "text": [
      "[0, 4, 16, 36, 64]\n"
     ]
    }
   ],
   "source": [
    "\"\"\"\n",
    "We can also perform filters on the expression, so that only desirable values\n",
    "get added to the resulting list:\n",
    "\n",
    "    (values) = [ (expression) for (item) in (collection) if (condition) ]\n",
    "\n",
    "\"\"\"\n",
    "\n",
    "squares_of_evens = [x*x for x in range(10) if (x % 2 == 0)]\n",
    "print(squares_of_evens)"
   ]
  },
  {
   "cell_type": "code",
   "execution_count": 4,
   "metadata": {},
   "outputs": [
    {
     "name": "stdout",
     "output_type": "stream",
     "text": [
      "{0: 0, 1: 1, 4: 4, 9: 9, 16: 16, 25: 25, 36: 36, 49: 49, 64: 64, 81: 81}\n"
     ]
    }
   ],
   "source": [
    "\"\"\"\n",
    "Lists are one thing we can provide a comprehension for. We can also do a\n",
    "dictionary comprehension using \n",
    "\n",
    "    (values) = { (key_expression) : (value_expression) for (item) in (collection) }\n",
    "    \n",
    "Note the use of curly braces instead of parens, and the two expressions\n",
    "(one for keys, one for values) separated by a colon. Let's look at an\n",
    "example using our squares - in this simplified case, we will use the\n",
    "same expression for both the key and the value:\n",
    "\"\"\"\n",
    "\n",
    "squares_dict = { (x*x):(x*x) for x in range(10) }\n",
    "print(squares_dict)"
   ]
  },
  {
   "cell_type": "code",
   "execution_count": 5,
   "metadata": {},
   "outputs": [
    {
     "name": "stdout",
     "output_type": "stream",
     "text": [
      "{1: 1, 9: 9, 25: 25, 49: 49, 81: 81}\n"
     ]
    }
   ],
   "source": [
    "\"\"\"\n",
    "Of course, we can also filter the dict-comp\n",
    "\"\"\"\n",
    "\n",
    "odd_squares_dict = { (x*x) : (x*x) for x in range(10) if (x % 2 == 1) }\n",
    "print(odd_squares_dict)"
   ]
  },
  {
   "cell_type": "code",
   "execution_count": 6,
   "metadata": {},
   "outputs": [
    {
     "name": "stdout",
     "output_type": "stream",
     "text": [
      "{0: 0, 1: 1, 2: 4, 3: 9, 4: 16, 5: 25, 6: 36, 7: 49, 8: 64, 9: 81}\n"
     ]
    }
   ],
   "source": [
    "\"\"\"\n",
    "We can also use a different expression for the keys than we do for the values\n",
    "\"\"\"\n",
    "\n",
    "lookup_squares_dict = { x : (x*x) for x in range(10) }\n",
    "print(lookup_squares_dict)"
   ]
  },
  {
   "cell_type": "code",
   "execution_count": 21,
   "metadata": {},
   "outputs": [
    {
     "name": "stdout",
     "output_type": "stream",
     "text": [
      "[1, 2, 3, 1, 2, 3, 2, 2, 2, 1, 3, 2, 4]\n",
      "{1, 2, 3, 4}\n"
     ]
    }
   ],
   "source": [
    "\"\"\"\n",
    "Python has a `set` type, which is somewhat like a list, but is not ordered and\n",
    "cannot contain duplicate values\n",
    "\"\"\"\n",
    "\n",
    "my_list = [1, 2, 3, 1, 2, 3, 2, 2, 2, 1, 3, 2, 4]\n",
    "print(my_list)\n",
    "print(set(my_list))"
   ]
  },
  {
   "cell_type": "code",
   "execution_count": null,
   "metadata": {},
   "outputs": [],
   "source": [
    "squares = [x*x for x in range(-9, 10)]\n",
    "print(squares)\n",
    "squares_set = {x*x for x in range(10)}\n",
    "print(squares_set)\n"
   ]
  },
  {
   "cell_type": "code",
   "execution_count": null,
   "metadata": {},
   "outputs": [],
   "source": []
  }
 ],
 "metadata": {
  "kernelspec": {
   "display_name": "Python 3",
   "language": "python",
   "name": "python3"
  },
  "language_info": {
   "codemirror_mode": {
    "name": "ipython",
    "version": 3
   },
   "file_extension": ".py",
   "mimetype": "text/x-python",
   "name": "python",
   "nbconvert_exporter": "python",
   "pygments_lexer": "ipython3",
   "version": "3.6.3"
  }
 },
 "nbformat": 4,
 "nbformat_minor": 2
}
