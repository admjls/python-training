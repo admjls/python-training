{
 "cells": [
  {
   "cell_type": "code",
   "execution_count": 1,
   "metadata": {},
   "outputs": [
    {
     "name": "stdout",
     "output_type": "stream",
     "text": [
      "<class 'list'>\n",
      "1\n",
      "2\n",
      "4\n",
      "7\n",
      "\n",
      "\n",
      "<class 'dict'>\n",
      "key1\n",
      "key2\n",
      "key3\n",
      "key4\n",
      "\n",
      "\n",
      "<class 'str'>\n",
      "A\n",
      " \n",
      "s\n",
      "t\n",
      "\n",
      "\n",
      "<class '_io.TextIOWrapper'>\n",
      "Line #1\n",
      "\n",
      "Line #2\n",
      "\n",
      "Line #3\n",
      "\n",
      "Line #4\n",
      "\n",
      "\n",
      "\n"
     ]
    }
   ],
   "source": [
    "\"\"\"\n",
    "For Loops:\n",
    "    If you loop over a list, you get values\n",
    "    If you loop over a dict, you get keys\n",
    "    If you loop over a str,  you get characters\n",
    "    If you loop over a file, you get lines\n",
    "\n",
    "    These are all \"iterables\".\n",
    "    Any object that supports iter() and next() is said to be \"iterable\";\n",
    "    many built-in functions do intelligent things when given an iterable.\n",
    "    \n",
    "    E.g.\n",
    "        min(it)\n",
    "        max(it)\n",
    "        \n",
    "        list(it)\n",
    "        set(it)\n",
    "        dict(it)\n",
    "        \n",
    "        item in it\n",
    "\n",
    "    This is because of the \"iterator protocol\" in Python. \n",
    "\"\"\"\n",
    "for items in [\n",
    "    [1, 2, 4, 7],\n",
    "    {\"key1\":\"value1\", \"key2\": \"value2\", \"key3\": \"value3\", \"key4\": \"value4\"},\n",
    "    \"A string of characters\",\n",
    "    open('data.txt', 'r')\n",
    "]:\n",
    "    print(\"{}\".format(type(items)))\n",
    "    it = iter(items)\n",
    "    print(next(it))\n",
    "    print(next(it))\n",
    "    print(next(it))\n",
    "    print(next(it))\n",
    "    print(\"\\n\")"
   ]
  },
  {
   "cell_type": "code",
   "execution_count": 9,
   "metadata": {},
   "outputs": [
    {
     "name": "stdout",
     "output_type": "stream",
     "text": [
      "Line #1\n",
      "\n",
      "Line #2\n",
      "\n",
      "Line #3\n",
      "\n",
      "Line #4\n",
      "\n",
      "Line #5\n",
      "\n",
      "Line #6\n",
      "\n",
      "Line #7\n",
      "\n",
      "Line #8\n",
      "\n",
      "Line #9\n",
      "\n",
      "Line #10\n",
      "\n"
     ]
    }
   ],
   "source": [
    "for line in open('data.txt', 'r'):\n",
    "    print(line)"
   ]
  },
  {
   "cell_type": "code",
   "execution_count": 10,
   "metadata": {},
   "outputs": [
    {
     "name": "stdout",
     "output_type": "stream",
     "text": [
      "1\n",
      "2\n",
      "3\n",
      "4\n",
      "5\n",
      "6\n",
      "7\n",
      "8\n",
      "9\n",
      "10\n"
     ]
    },
    {
     "ename": "StopIteration",
     "evalue": "",
     "output_type": "error",
     "traceback": [
      "\u001b[0;31m---------------------------------------------------------------------------\u001b[0m",
      "\u001b[0;31mStopIteration\u001b[0m                             Traceback (most recent call last)",
      "\u001b[0;32m<ipython-input-10-2cbb1ce586f9>\u001b[0m in \u001b[0;36m<module>\u001b[0;34m()\u001b[0m\n\u001b[1;32m      2\u001b[0m \u001b[0;34m\u001b[0m\u001b[0m\n\u001b[1;32m      3\u001b[0m \u001b[0;32mwhile\u001b[0m \u001b[0;32mTrue\u001b[0m\u001b[0;34m:\u001b[0m\u001b[0;34m\u001b[0m\u001b[0m\n\u001b[0;32m----> 4\u001b[0;31m     \u001b[0mitem\u001b[0m \u001b[0;34m=\u001b[0m \u001b[0mnext\u001b[0m\u001b[0;34m(\u001b[0m\u001b[0mmy_list\u001b[0m\u001b[0;34m)\u001b[0m\u001b[0;34m\u001b[0m\u001b[0m\n\u001b[0m\u001b[1;32m      5\u001b[0m     \u001b[0mprint\u001b[0m\u001b[0;34m(\u001b[0m\u001b[0mitem\u001b[0m\u001b[0;34m)\u001b[0m\u001b[0;34m\u001b[0m\u001b[0m\n",
      "\u001b[0;31mStopIteration\u001b[0m: "
     ]
    }
   ],
   "source": [
    "my_list = iter(range(1, 11))\n",
    "\n",
    "while True:\n",
    "    item = next(my_list)\n",
    "    print(item)"
   ]
  },
  {
   "cell_type": "code",
   "execution_count": 11,
   "metadata": {},
   "outputs": [
    {
     "name": "stdout",
     "output_type": "stream",
     "text": [
      "1\n",
      "2\n",
      "3\n",
      "4\n",
      "5\n",
      "6\n",
      "7\n",
      "8\n",
      "9\n",
      "10\n"
     ]
    }
   ],
   "source": [
    "my_list = iter(range(1, 11))\n",
    "\n",
    "while True:\n",
    "    try:\n",
    "        item = next(my_list)\n",
    "        print(item)\n",
    "    except StopIteration as ex:\n",
    "        break"
   ]
  },
  {
   "cell_type": "code",
   "execution_count": 12,
   "metadata": {},
   "outputs": [
    {
     "name": "stdout",
     "output_type": "stream",
     "text": [
      "5…\n",
      "4…\n",
      "3…\n",
      "2…\n",
      "1…\n",
      "Kaboom!\n"
     ]
    }
   ],
   "source": [
    "\"\"\"\n",
    "To create a new class which supports the Iterator Protocol, it must implement two methods:\n",
    "class_name.__iter__() and class_name.__next__()\n",
    "\n",
    "\"\"\"\n",
    "\n",
    "class countdown_classic:\n",
    "    def __init__(self, start):\n",
    "        self.count = start\n",
    "        \n",
    "    def __iter__(self):\n",
    "        return self\n",
    "    \n",
    "    def __next__(self):\n",
    "        if self.count <= 0:\n",
    "            raise StopIteration\n",
    "        r = self.count\n",
    "        self.count = self.count - 1\n",
    "        return r\n",
    "    \n",
    "    \n",
    "for tick in countdown_classic(5):\n",
    "    print(\"{}…\".format(tick))\n",
    "print(\"Kaboom!\")"
   ]
  },
  {
   "cell_type": "code",
   "execution_count": 13,
   "metadata": {},
   "outputs": [
    {
     "name": "stdout",
     "output_type": "stream",
     "text": [
      "5…\n",
      "4…\n",
      "3…\n",
      "2…\n",
      "1…\n",
      "Kaboom!\n"
     ]
    }
   ],
   "source": [
    "\"\"\"\n",
    "Instead of constructing a class to implement the protocol, you can *generate* a\n",
    "*series* of values (using the yield statement)\n",
    "\"\"\"\n",
    "\n",
    "def countdown(n):\n",
    "    while n > 0:\n",
    "        yield n\n",
    "        n -= 1\n",
    "\n",
    "for tick in countdown(5):\n",
    "    print(\"{}…\".format(tick))\n",
    "print(\"Kaboom!\")"
   ]
  },
  {
   "cell_type": "code",
   "execution_count": 14,
   "metadata": {},
   "outputs": [
    {
     "name": "stdout",
     "output_type": "stream",
     "text": [
      "Before normal function…\n",
      "I will output immediately\n",
      "…after normal function\n",
      "Before generator function…\n",
      "…after generator function\n"
     ]
    }
   ],
   "source": [
    "\"\"\"\n",
    "A generator function is slightly different from a regular function; e.g., note\n",
    "that it doesn't immediately execute\n",
    "\"\"\"\n",
    "\n",
    "def a_normal_function():\n",
    "    print(\"I will output immediately\")\n",
    "    \n",
    "def countdown_print(n):\n",
    "    print(\"NOW I will print: Counting down from {}\".format(n))\n",
    "    while n > 0:\n",
    "        yield n\n",
    "        n -= 1\n",
    "\n",
    "print(\"Before normal function…\")\n",
    "a = a_normal_function()\n",
    "print(\"…after normal function\")\n",
    "\n",
    "print(\"Before generator function…\")\n",
    "b = countdown_print(10)\n",
    "print(\"…after generator function\")\n"
   ]
  },
  {
   "cell_type": "code",
   "execution_count": 15,
   "metadata": {},
   "outputs": [
    {
     "name": "stdout",
     "output_type": "stream",
     "text": [
      "NOW I will print: Counting down from 10\n"
     ]
    },
    {
     "data": {
      "text/plain": [
       "10"
      ]
     },
     "execution_count": 15,
     "metadata": {},
     "output_type": "execute_result"
    }
   ],
   "source": [
    "\"\"\"\n",
    "The generator won't do its job until the first time `next()` is called on it;\n",
    "at that point, yield produces a value and suspends the function execution, returning\n",
    "control flow back to its caller\n",
    "\"\"\"\n",
    "next(b)"
   ]
  },
  {
   "cell_type": "code",
   "execution_count": 16,
   "metadata": {},
   "outputs": [
    {
     "data": {
      "text/plain": [
       "1"
      ]
     },
     "execution_count": 16,
     "metadata": {},
     "output_type": "execute_result"
    }
   ],
   "source": [
    "\"\"\"\n",
    "When the generator returns, the engine raises a StopIteration exception\n",
    "\"\"\"\n",
    "c = countdown(1)\n",
    "next(c)"
   ]
  },
  {
   "cell_type": "code",
   "execution_count": null,
   "metadata": {},
   "outputs": [],
   "source": [
    "next(c)"
   ]
  },
  {
   "cell_type": "code",
   "execution_count": null,
   "metadata": {},
   "outputs": [],
   "source": []
  }
 ],
 "metadata": {
  "kernelspec": {
   "display_name": "Python 3",
   "language": "python",
   "name": "python3"
  },
  "language_info": {
   "codemirror_mode": {
    "name": "ipython",
    "version": 3
   },
   "file_extension": ".py",
   "mimetype": "text/x-python",
   "name": "python",
   "nbconvert_exporter": "python",
   "pygments_lexer": "ipython3",
   "version": "3.6.3"
  }
 },
 "nbformat": 4,
 "nbformat_minor": 2
}
